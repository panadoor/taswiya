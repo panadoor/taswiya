{
 "cells": [
  {
   "cell_type": "code",
   "execution_count": null,
   "metadata": {},
   "outputs": [],
   "source": [
    "import pathlib\n",
    "import os\n",
    "\n",
    "base_path = 'C:\\\\Users\\\\erradi\\\\Dropbox\\\\_Import-Export\\\\Scanned-Docs\\\\'\n",
    "sourcePath = pathlib.Path(f\"{base_path}To-Print\\\\Factures-05-2024\\\\\")\n",
    "\n",
    "scannedPath = pathlib.Path(f\"{base_path}Scan-Docs\\\\Factures-05-2024\\\\\")\n",
    "\n",
    "# define the pattern\n",
    "currentPattern = \"FA*.pdf\"\n",
    "filesList = []\n",
    "for currentFile in sourcePath.glob(currentPattern):\n",
    "    filesList.append(currentFile.name)\n",
    "\n",
    "print(filesList)\n",
    "#print(currentFile.name)\n",
    "\n",
    "\n",
    "# scannedDocs = os.listdir(scannedPath)\n",
    "# print(scannedDocs)\n",
    "# reversedScannedDocs = scannedDocs[::-1]\n",
    "# print(reversedScannedDocs)\n",
    "\n",
    "# for count, filename in enumerate(os.listdir(scannedPath)):\n",
    "for index, filename in enumerate(sorted(os.listdir(scannedPath))): #, reverse=True\n",
    "#for count, filename in enumerate(scannedDocs):\n",
    "    src = scannedPath + filename\n",
    "    dst = scannedPath + filesList[index]\n",
    "    print(index, filename, filesList[index])\n",
    "    # rename() function will\n",
    "    # rename all the files\n",
    "    os.rename(src, dst)"
   ]
  }
 ],
 "metadata": {
  "language_info": {
   "name": "python"
  }
 },
 "nbformat": 4,
 "nbformat_minor": 2
}
