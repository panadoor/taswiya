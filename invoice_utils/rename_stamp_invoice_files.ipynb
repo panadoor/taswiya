{
 "cells": [
  {
   "cell_type": "code",
   "execution_count": 15,
   "metadata": {},
   "outputs": [
    {
     "name": "stderr",
     "output_type": "stream",
     "text": [
      "<>:8: SyntaxWarning: invalid escape sequence '\\D'\n",
      "<>:8: SyntaxWarning: invalid escape sequence '\\D'\n",
      "C:\\Users\\erradi\\AppData\\Local\\Temp\\ipykernel_21996\\3266653242.py:8: SyntaxWarning: invalid escape sequence '\\D'\n",
      "  base_path = 'C:\\\\Users\\\\erradi\\Dropbox\\\\_Import-Export\\\\_PanadoorCompta\\\\2024\\\\'\n",
      "c:\\pana-apps\\taswiya\\utils\\pdf_utils.py:8: SyntaxWarning: invalid escape sequence '\\p'\n",
      "  stamp_image = 'C:\\\\Users\\\\erradi\\\\Dropbox\\\\_Import-Export\\\\PanadoorDocs\\\\Stamps\\Panadoor-Stamp.png'\n"
     ]
    },
    {
     "name": "stdout",
     "output_type": "stream",
     "text": [
      "Processing C:\\Users\\erradi\\Dropbox\\_Import-Export\\_PanadoorCompta\\2024\\\\05-2024\\tmp...\n",
      "Renaming completed.\n",
      "Stamped: FA20240182_Abderahim_ElMahyaoui_27.05.2024.pdf\n"
     ]
    }
   ],
   "source": [
    "# force reload of the module\n",
    "# import libs.pdf_utils as pdf\n",
    "#import importlib\n",
    "#importlib.reload(pdf)\n",
    "\n",
    "from libs.pdf_utils import add_stamp\n",
    "from libs.file_utils import rename_files\n",
    "\n",
    "base_path = 'C:\\\\Users\\\\erradi\\Dropbox\\\\_Import-Export\\\\_PanadoorCompta\\\\2024\\\\'\n",
    "directory = f'{base_path}\\\\05-2024\\\\tmp'\n",
    "\n",
    "print(f'Processing {directory}...')\n",
    "\n",
    "rename_files(directory, rename=True)\n",
    "add_stamp(directory)"
   ]
  }
 ],
 "metadata": {
  "kernelspec": {
   "display_name": "cmps460",
   "language": "python",
   "name": "python3"
  },
  "language_info": {
   "codemirror_mode": {
    "name": "ipython",
    "version": 3
   },
   "file_extension": ".py",
   "mimetype": "text/x-python",
   "name": "python",
   "nbconvert_exporter": "python",
   "pygments_lexer": "ipython3",
   "version": "3.12.1"
  }
 },
 "nbformat": 4,
 "nbformat_minor": 2
}
