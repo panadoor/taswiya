{
 "cells": [
  {
   "cell_type": "code",
   "execution_count": 1,
   "metadata": {},
   "outputs": [
    {
     "name": "stdout",
     "output_type": "stream",
     "text": [
      "Requirement already satisfied: PyPDF2 in c:\\users\\erradi\\appdata\\local\\anaconda3\\envs\\cmps460\\lib\\site-packages (3.0.1)Note: you may need to restart the kernel to use updated packages.\n",
      "\n",
      "Requirement already satisfied: Pillow in c:\\users\\erradi\\appdata\\local\\anaconda3\\envs\\cmps460\\lib\\site-packages (10.1.0)\n",
      "Requirement already satisfied: reportlab in c:\\users\\erradi\\appdata\\local\\anaconda3\\envs\\cmps460\\lib\\site-packages (4.2.0)\n",
      "Requirement already satisfied: chardet in c:\\users\\erradi\\appdata\\local\\anaconda3\\envs\\cmps460\\lib\\site-packages (from reportlab) (5.2.0)\n"
     ]
    }
   ],
   "source": [
    "%pip install PyPDF2 Pillow reportlab\n"
   ]
  },
  {
   "cell_type": "code",
   "execution_count": 8,
   "metadata": {},
   "outputs": [
    {
     "name": "stdout",
     "output_type": "stream",
     "text": [
      "Processed: C:\\Users\\erradi\\Dropbox\\_Import-Export\\_PanadoorCompta\\2024\\06-2024\\FA20240148_Ste_Hub_De_Genie_Civil_02.05.2024.pdf\n",
      "Processed: C:\\Users\\erradi\\Dropbox\\_Import-Export\\_PanadoorCompta\\2024\\06-2024\\FA20240149_Ste_Zohas_02.05.2024.pdf\n",
      "Processed: C:\\Users\\erradi\\Dropbox\\_Import-Export\\_PanadoorCompta\\2024\\06-2024\\FA20240150_Ste_ZOMAROCHD_02.05.2024.pdf\n",
      "Processed: C:\\Users\\erradi\\Dropbox\\_Import-Export\\_PanadoorCompta\\2024\\06-2024\\FA20240151_Ste_Abri_02.05.2024.pdf\n",
      "Processed: C:\\Users\\erradi\\Dropbox\\_Import-Export\\_PanadoorCompta\\2024\\06-2024\\FA20240152_Ste_Promo_D2H_03.05.2024.pdf\n",
      "Processed: C:\\Users\\erradi\\Dropbox\\_Import-Export\\_PanadoorCompta\\2024\\06-2024\\FA20240153_Ste_Artwood_06.05.2024.pdf\n",
      "Processed: C:\\Users\\erradi\\Dropbox\\_Import-Export\\_PanadoorCompta\\2024\\06-2024\\stamped_FA20240148_Ste_Hub_De_Genie_Civil_02.05.2024.pdf\n",
      "Processed: C:\\Users\\erradi\\Dropbox\\_Import-Export\\_PanadoorCompta\\2024\\06-2024\\stamped_FA20240149_Ste_Zohas_02.05.2024.pdf\n",
      "Processed: C:\\Users\\erradi\\Dropbox\\_Import-Export\\_PanadoorCompta\\2024\\06-2024\\stamped_FA20240150_Ste_ZOMAROCHD_02.05.2024.pdf\n",
      "Processed: C:\\Users\\erradi\\Dropbox\\_Import-Export\\_PanadoorCompta\\2024\\06-2024\\stamped_FA20240151_Ste_Abri_02.05.2024.pdf\n",
      "Processed: C:\\Users\\erradi\\Dropbox\\_Import-Export\\_PanadoorCompta\\2024\\06-2024\\stamped_FA20240152_Ste_Promo_D2H_03.05.2024.pdf\n",
      "Processed: C:\\Users\\erradi\\Dropbox\\_Import-Export\\_PanadoorCompta\\2024\\06-2024\\stamped_FA20240153_Ste_Artwood_06.05.2024.pdf\n",
      "Processed: C:\\Users\\erradi\\Dropbox\\_Import-Export\\_PanadoorCompta\\2024\\06-2024\\stamped_stamped_FA20240148_Ste_Hub_De_Genie_Civil_02.05.2024.pdf\n",
      "Processed: C:\\Users\\erradi\\Dropbox\\_Import-Export\\_PanadoorCompta\\2024\\06-2024\\stamped_stamped_FA20240149_Ste_Zohas_02.05.2024.pdf\n",
      "Processed: C:\\Users\\erradi\\Dropbox\\_Import-Export\\_PanadoorCompta\\2024\\06-2024\\stamped_stamped_FA20240150_Ste_ZOMAROCHD_02.05.2024.pdf\n",
      "Processed: C:\\Users\\erradi\\Dropbox\\_Import-Export\\_PanadoorCompta\\2024\\06-2024\\stamped_stamped_FA20240151_Ste_Abri_02.05.2024.pdf\n",
      "Processed: C:\\Users\\erradi\\Dropbox\\_Import-Export\\_PanadoorCompta\\2024\\06-2024\\stamped_stamped_FA20240152_Ste_Promo_D2H_03.05.2024.pdf\n",
      "Processed: C:\\Users\\erradi\\Dropbox\\_Import-Export\\_PanadoorCompta\\2024\\06-2024\\stamped_stamped_FA20240153_Ste_Artwood_06.05.2024.pdf\n"
     ]
    }
   ],
   "source": [
    "import os\n",
    "from PyPDF2 import PdfWriter, PdfReader\n",
    "from reportlab.pdfgen import canvas\n",
    "from reportlab.lib.pagesizes import letter\n",
    "from PIL import Image\n",
    "\n",
    "def add_stamp_to_pdf(input_pdf, output_pdf, stamp_image):\n",
    "    # Create a temporary PDF with the stamp image\n",
    "    temp_pdf_path = \"temp_stamp.pdf\"\n",
    "    packet = canvas.Canvas(temp_pdf_path, pagesize=letter)\n",
    "    \n",
    "    # Open the stamp image\n",
    "    image = Image.open(stamp_image)\n",
    "    \n",
    "    # Define the desired size for the stamp (e.g., 100x100 pixels)\n",
    "    stamp_width, stamp_height = 180, 100\n",
    "    \n",
    "    # Get the dimensions of the page\n",
    "    page_width, page_height = letter\n",
    "\n",
    "    # Calculate the position to place the image in the middle of the page\n",
    "    x = ((page_width - stamp_width) / 2) - 100\n",
    "    y = (page_height - stamp_height) / 2\n",
    "\n",
    "    # Draw the image on the canvas\n",
    "    packet.drawImage(stamp_image, x, y, width=stamp_width, height=stamp_height, mask='auto')\n",
    "    packet.showPage()\n",
    "    packet.save()\n",
    "\n",
    "    # Read the existing PDF\n",
    "    with open(input_pdf, \"rb\") as input_file:\n",
    "        existing_pdf = PdfReader(input_file)\n",
    "        output = PdfWriter()\n",
    "\n",
    "        # Read the temporary PDF with the stamp\n",
    "        with open(temp_pdf_path, \"rb\") as stamp_file:\n",
    "            stamp_pdf = PdfReader(stamp_file)\n",
    "            stamp_page = stamp_pdf.pages[0]\n",
    "\n",
    "            # Merge the stamp page with each page of the original PDF\n",
    "            for i in range(len(existing_pdf.pages)):\n",
    "                page = existing_pdf.pages[i]\n",
    "                page.merge_page(stamp_page)\n",
    "                output.add_page(page)\n",
    "\n",
    "        # Write the result to the output PDF\n",
    "        with open(output_pdf, \"wb\") as outputStream:\n",
    "            output.write(outputStream)\n",
    "\n",
    "    # Clean up temporary file\n",
    "    os.remove(temp_pdf_path)\n",
    "\n",
    "# Function to process all PDF files in a directory\n",
    "def process_pdf_files_in_directory(directory, stamp_image):\n",
    "    for filename in os.listdir(directory):\n",
    "        if filename.endswith(\".pdf\"):\n",
    "            input_pdf = os.path.join(directory, filename)\n",
    "            output_pdf = os.path.join(directory, f\"stamped_{filename}\")\n",
    "            add_stamp_to_pdf(input_pdf, output_pdf, stamp_image)\n",
    "            print(f\"Processed: {input_pdf}\")\n",
    "\n",
    "# Directory containing PDF files and the stamp image path\n",
    "directory = 'C:\\\\Users\\\\erradi\\\\Dropbox\\\\_Import-Export\\\\_PanadoorCompta\\\\2024\\\\06-2024'\n",
    "stamp_image = 'C:\\\\Users\\\\erradi\\\\Dropbox\\\\_Import-Export\\\\PanadoorDocs\\\\Panadoor-Stamp2.png'\n",
    "\n",
    "# Process all PDF files in the specified directory\n",
    "process_pdf_files_in_directory(directory, stamp_image)\n"
   ]
  }
 ],
 "metadata": {
  "kernelspec": {
   "display_name": "cmps460",
   "language": "python",
   "name": "python3"
  },
  "language_info": {
   "codemirror_mode": {
    "name": "ipython",
    "version": 3
   },
   "file_extension": ".py",
   "mimetype": "text/x-python",
   "name": "python",
   "nbconvert_exporter": "python",
   "pygments_lexer": "ipython3",
   "version": "3.12.1"
  }
 },
 "nbformat": 4,
 "nbformat_minor": 2
}
