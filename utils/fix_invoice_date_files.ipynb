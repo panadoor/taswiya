{
 "cells": [
  {
   "cell_type": "markdown",
   "metadata": {},
   "source": [
    "\n",
    "Rename invoice files"
   ]
  },
  {
   "cell_type": "code",
   "execution_count": 1,
   "metadata": {},
   "outputs": [],
   "source": [
    "import os\n",
    "from datetime import datetime\n",
    "\n",
    "def get_file_name_and_extension(file_path):\n",
    "    \"\"\"\n",
    "    Extracts the file name and extension from a given file path.\n",
    "   \n",
    "    Parameters:\n",
    "    file_path (str): The full file name with extension.\n",
    "    \n",
    "    Returns:\n",
    "    tuple: A tuple containing the file name and the extension.\n",
    "    \"\"\"\n",
    "    # Extract file name and extension\n",
    "    file_name_with_ext = os.path.basename(file_path)\n",
    "    file_name, file_extension = os.path.splitext(file_name_with_ext)\n",
    "    \n",
    "    # Remove leading and trailing spaces from file name and extension\n",
    "    file_name = file_name.strip()\n",
    "    file_name = file_name.replace('.', '_').replace(' ', '_')\n",
    "    file_extension = file_extension.strip()\n",
    "    \n",
    "    # Return file name and extension\n",
    "    return file_name, file_extension"
   ]
  },
  {
   "cell_type": "code",
   "execution_count": 31,
   "metadata": {},
   "outputs": [
    {
     "name": "stdout",
     "output_type": "stream",
     "text": [
      "Renamed: FA20240032_Ste_Verre_Oulad_Chaker_20240131.pdf -> FA20240032_Ste_Verre_Oulad_Chaker_31.01.2024.pdf\n",
      "Renaming completed.\n"
     ]
    },
    {
     "name": "stderr",
     "output_type": "stream",
     "text": [
      "<>:5: SyntaxWarning: invalid escape sequence '\\D'\n",
      "<>:5: SyntaxWarning: invalid escape sequence '\\D'\n",
      "C:\\Users\\erradi\\AppData\\Local\\Temp\\ipykernel_26408\\267242622.py:5: SyntaxWarning: invalid escape sequence '\\D'\n",
      "  directory = 'C:\\\\Users\\\\erradi\\Dropbox\\\\_Import-Export\\\\_PanadoorCompta\\\\2024\\\\01-2024'\n"
     ]
    }
   ],
   "source": [
    "# Specify the directory containing the files\n",
    "directory = 'C:\\\\Users\\\\erradi\\Dropbox\\\\_Import-Export\\\\_PanadoorCompta\\\\2024\\\\01-2024'\n",
    "\n",
    "# Function to convert date format from YYYYMMDD to DD.MM.YYYY\n",
    "def convert_date_format(date_str):\n",
    "    date_obj = datetime.strptime(date_str, \"%Y%m%d\")\n",
    "    return date_obj.strftime(\"%d.%m.%Y\")\n",
    "\n",
    "# Loop through all files in the directory\n",
    "for filename in os.listdir(directory):\n",
    "    # Construct the full file path\n",
    "    old_file_path = os.path.join(directory, filename)\n",
    "    \n",
    "    # Skip directories\n",
    "    if os.path.isdir(old_file_path) or (not filename.endswith('.pdf')) \\\n",
    "            or (not filename.startswith('FA')):\n",
    "        continue\n",
    "\n",
    "    # Example usage\n",
    "    file_path = \"example.file.name with spaces .txt\"\n",
    "    file_name, extension = get_file_name_and_extension(filename)\n",
    "    #print(f\"File name: '{file_name}'\")\n",
    "    #print(f\"File extension: '{extension}'\")\n",
    "\n",
    "    # Split the filename into parts\n",
    "    parts = file_name.split('_')\n",
    "\n",
    "    # Check if the filename starts with \"Facture\"\n",
    "    \"\"\" if parts[0] == \"Facture\":\n",
    "        facture_number = parts[1]\n",
    "        date_str = parts[2]\n",
    "        company_name = '_'.join(parts[3:-1]) + '_' + parts[-1].split('.')[0]\n",
    "        extension = parts[-1].split('.')[-1]\n",
    "    else:\"\"\"\n",
    "\n",
    "    facture_number = parts[0]\n",
    "    company_name = '_'.join(parts[1:-1]) #+ '_' + parts[-1].split('.')[0]\n",
    "    date_str = parts[-1]\n",
    "    #extension = parts[-1].split('.')[-1]\n",
    "\n",
    "    # Convert the date to the desired format\n",
    "    try:\n",
    "        formatted_date = convert_date_format(date_str)\n",
    "    except ValueError:\n",
    "        continue\n",
    "\n",
    "    # Construct the new filename\n",
    "    new_filename = f\"{facture_number}_{company_name}_{formatted_date}{extension}\"\n",
    "    \n",
    "    # Construct the full new file path\n",
    "    new_file_path = os.path.join(directory, new_filename)\n",
    "    \n",
    "    # Rename the file\n",
    "    #os.rename(old_file_path, new_file_path)\n",
    "    \n",
    "    print(f\"{filename} -> {new_filename}\")\n",
    "\n",
    "print(\"Renaming completed.\")"
   ]
  },
  {
   "cell_type": "code",
   "execution_count": null,
   "metadata": {},
   "outputs": [],
   "source": []
  }
 ],
 "metadata": {
  "kernelspec": {
   "display_name": "cmps460",
   "language": "python",
   "name": "python3"
  },
  "language_info": {
   "codemirror_mode": {
    "name": "ipython",
    "version": 3
   },
   "file_extension": ".py",
   "mimetype": "text/x-python",
   "name": "python",
   "nbconvert_exporter": "python",
   "pygments_lexer": "ipython3",
   "version": "3.12.1"
  }
 },
 "nbformat": 4,
 "nbformat_minor": 2
}
